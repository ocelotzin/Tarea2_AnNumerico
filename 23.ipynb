{
  "nbformat": 4,
  "nbformat_minor": 0,
  "metadata": {
    "colab": {
      "provenance": []
    },
    "kernelspec": {
      "name": "python3",
      "display_name": "Python 3"
    },
    "language_info": {
      "name": "python"
    }
  },
  "cells": [
    {
      "cell_type": "markdown",
      "source": [
        "<font color=\"Teal\" face=\"Comic Sans MS,arial\">\n",
        "  <h1 align=\"center\"><i>Tarea 1 Analisis Numerico</i></h1>\n",
        "  </font>\n",
        "  <font color=\"Blue\" face=\"Comic Sans MS,arial\">\n",
        "  <h5 align=\"center\"><i>MARTINEZ ROSAS ZAYDE YAMILE</i></h5>\n",
        "  <h5 align=\"center\"><i>CAMACHO MARIN ANA KAREN</i></h5>\n",
        "  <h5 align=\"center\"><i>LÓPEZ AGUIRRE ROBERTO OCELOTZIN</i></h5>\n",
        "  <h5 align=\"center\"><i>VARGAS BAUTISTA EMMANUEL</i></h5>\n",
        "  </font>"
      ],
      "metadata": {
        "id": "aMFoanp4OS5L"
      }
    },
    {
      "cell_type": "code",
      "execution_count": null,
      "metadata": {
        "colab": {
          "base_uri": "https://localhost:8080/"
        },
        "id": "olrhsZfntt7N",
        "outputId": "d4a523c5-052c-4c2c-9272-183d6c55c1e5"
      },
      "outputs": [
        {
          "output_type": "stream",
          "name": "stdout",
          "text": [
            "Solución con b1 (original): [1. 1.]\n",
            "Solución con b2 (perturbado): [ 7.00888731 -8.39566299]\n",
            "Diferencia entre soluciones: [ 6.00888731 -9.39566299]\n",
            "Norma de diferencia en b: 0.037416573867739444\n",
            "Norma de diferencia en x: 11.152811743201099\n"
          ]
        }
      ],
      "source": [
        "import numpy as np\n",
        "\n",
        "# a)\n",
        "\n",
        "# Matriz A y vector b original\n",
        "A = np.array([[0.16, 0.10],\n",
        "              [0.17, 0.11],\n",
        "              [2.02, 1.29]])\n",
        "b1 = np.array([0.26, 0.28, 3.31])\n",
        "\n",
        "# Calculamos A^T A y A^T b\n",
        "At = A.T\n",
        "AtA = At @ A\n",
        "Atb1 = At @ b1\n",
        "\n",
        "# Calculamos la inversa de A^T A\n",
        "AtA_inv = np.linalg.inv(AtA)\n",
        "\n",
        "# Calculamos la solución x = (A^T A)^(-1) A^T b\n",
        "x1 = AtA_inv @ Atb1\n",
        "\n",
        "print(\"Solución con b1 (original):\", x1)\n",
        "\n",
        "# b)\n",
        "\n",
        "# Vector b perturbado\n",
        "b2 = np.array([0.27, 0.25, 3.33])\n",
        "\n",
        "# A^T b2\n",
        "Atb2 = At @ b2\n",
        "\n",
        "# x = (A^T A)^(-1) A^T b2\n",
        "x2 = AtA_inv @ Atb2\n",
        "\n",
        "print(\"Solución con b2 (perturbado):\", x2)\n",
        "\n",
        "# c) Comparamos\n",
        "diff = x2 - x1\n",
        "print(\"Diferencia entre soluciones:\", diff)\n",
        "print(\"Norma de diferencia en b:\", np.linalg.norm(b2 - b1))\n",
        "print(\"Norma de diferencia en x:\", np.linalg.norm(diff))\n"
      ]
    },
    {
      "cell_type": "markdown",
      "source": [
        "#Comprobacion con NUMPY :)"
      ],
      "metadata": {
        "id": "U-V6EHnfuOz5"
      }
    },
    {
      "cell_type": "code",
      "source": [
        "import numpy as np\n",
        "\n",
        "# a)\n",
        "A = np.array([\n",
        "    [0.16, 0.10],\n",
        "    [0.17, 0.11],\n",
        "    [2.02, 1.29]\n",
        "])\n",
        "\n",
        "b1 = np.array([0.26, 0.28, 3.31])\n",
        "\n",
        "# b)\n",
        "b2 = np.array([0.27, 0.25, 3.33])\n",
        "\n",
        "# Función para resolver mínimos cuadrados ahora con numpy para asegurarnos que no haya errores\n",
        "def minimos_cuadrados(A, b):\n",
        "    x, residuals, rank, s = np.linalg.lstsq(A, b, rcond=None)\n",
        "    return x\n",
        "\n",
        "# Soluciones\n",
        "x1 = minimos_cuadrados(A, b1)\n",
        "x2 = minimos_cuadrados(A, b2)\n",
        "\n",
        "# Imprimimos lñox resultados\n",
        "print(\"a) Solución con b original:\")\n",
        "print(x1)\n",
        "\n",
        "print(\"\\nb) Solución con b perturbado:\")\n",
        "print(x2)\n",
        "\n",
        "print(\"\\nc) Diferencia entre soluciones:\")\n",
        "print(x2 - x1)\n"
      ],
      "metadata": {
        "colab": {
          "base_uri": "https://localhost:8080/"
        },
        "id": "rkQFLoBLuDMG",
        "outputId": "0573ee34-5c61-4844-e069-7290f6623b68"
      },
      "execution_count": null,
      "outputs": [
        {
          "output_type": "stream",
          "name": "stdout",
          "text": [
            "a) Solución con b original:\n",
            "[1. 1.]\n",
            "\n",
            "b) Solución con b perturbado:\n",
            "[ 7.00888731 -8.39566299]\n",
            "\n",
            "c) Diferencia entre soluciones:\n",
            "[ 6.00888731 -9.39566299]\n"
          ]
        }
      ]
    },
    {
      "cell_type": "markdown",
      "source": [
        "# c)\n",
        "\n",
        "muestra cómo una pequeña perturbación en el vector $\\bar{b}$ puede afectar mucho a nuestra solución $\\bar{x}$ ademas notemos que si la matriz $A$ está cercana a estar mal condicionada (es decir, sus columnas son casi linealmente dependientes), entonces incluso pequeños cambios en $\\bar{b}$ pueden generar algunos cambios grandes en la solución."
      ],
      "metadata": {
        "id": "9jbPRNGFPluA"
      }
    }
  ]
}