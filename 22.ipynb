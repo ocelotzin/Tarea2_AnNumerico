{
  "nbformat": 4,
  "nbformat_minor": 0,
  "metadata": {
    "colab": {
      "provenance": []
    },
    "kernelspec": {
      "name": "python3",
      "display_name": "Python 3"
    },
    "language_info": {
      "name": "python"
    }
  },
  "cells": [
    {
      "cell_type": "markdown",
      "source": [
        "<font color=\"Teal\" face=\"Comic Sans MS,arial\">\n",
        "  <h1 align=\"center\"><i>Tarea 1 Analisis Numerico</i></h1>\n",
        "  </font>\n",
        "  <font color=\"Blue\" face=\"Comic Sans MS,arial\">\n",
        "  <h5 align=\"center\"><i>MARTINEZ ROSAS ZAYDE YAMILE</i></h5>\n",
        "  <h5 align=\"center\"><i>CAMACHO MARIN ANA KAREN</i></h5>\n",
        "  <h5 align=\"center\"><i>LÓPEZ AGUIRRE ROBERTO OCELOTZIN</i></h5>\n",
        "  <h5 align=\"center\"><i>VARGAS BAUTISTA EMMANUEL</i></h5>\n",
        "  </font>"
      ],
      "metadata": {
        "id": "FsGIqHHjORgM"
      }
    },
    {
      "cell_type": "code",
      "execution_count": null,
      "metadata": {
        "colab": {
          "base_uri": "https://localhost:8080/"
        },
        "id": "3hHYs1_dVvv8",
        "outputId": "397147c6-a3a6-4caa-bfa0-8bc7620aeb71"
      },
      "outputs": [
        {
          "output_type": "execute_result",
          "data": {
            "text/plain": [
              "(np.float64(1.6180339887498945),\n",
              " [np.float64(4.183300132670378),\n",
              "  np.float64(1.7078251276599337),\n",
              "  np.float64(1.7078251276599337),\n",
              "  np.float64(1.7078251276599337)])"
            ]
          },
          "metadata": {},
          "execution_count": 9
        }
      ],
      "source": [
        "import numpy as np\n",
        "from numpy.linalg import norm, cond, svd\n",
        "# Definimos la matriz A y vector b\n",
        "A = np.array([[1, 1],\n",
        "              [-1, 0],\n",
        "              [0, 1],\n",
        "              [1, 0]])\n",
        "b = np.array([-1, 2, -1, 1])\n",
        "\n",
        "# Soluciones aproximadas x_i obtenidas en incisos 16-19\n",
        "\n",
        "# Creamos una lista de soluciones\n",
        "\n",
        "x16 = [-2, 1]\n",
        "x17 = [-2/5, -4/5]\n",
        "x18 = [-2/5, -4/5]\n",
        "x19 = [-2/5, -4/5]\n",
        "soluciones = [x16, x17, x18, x19]\n",
        "\n",
        "# Calculamos el numero de la condicion de A\n",
        "condicion = cond(A, 2)\n",
        "\n",
        "# Calculamos el angulo 1 / cos(theta_i) para cada x_i\n",
        "cos_theta_inv = []\n",
        "for x in soluciones:\n",
        "    Ax = A @ x\n",
        "    numerador = norm(Ax) * norm(b)\n",
        "    denominador = np.dot(Ax, b)\n",
        "    inv_cos = numerador / denominador\n",
        "    cos_theta_inv.append(inv_cos)\n",
        "\n",
        "condicion, cos_theta_inv\n"
      ]
    }
  ]
}