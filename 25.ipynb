{
  "nbformat": 4,
  "nbformat_minor": 0,
  "metadata": {
    "colab": {
      "provenance": []
    },
    "kernelspec": {
      "name": "python3",
      "display_name": "Python 3"
    },
    "language_info": {
      "name": "python"
    }
  },
  "cells": [
    {
      "cell_type": "markdown",
      "source": [
        "<font color=\"Teal\" face=\"Comic Sans MS,arial\">\n",
        "  <h1 align=\"center\"><i>Tarea 1 Analisis Numerico</i></h1>\n",
        "  </font>\n",
        "  <font color=\"Blue\" face=\"Comic Sans MS,arial\">\n",
        "  <h5 align=\"center\"><i>MARTINEZ ROSAS ZAYDE YAMILE</i></h5>\n",
        "  <h5 align=\"center\"><i>CAMACHO MARIN ANA KAREN</i></h5>\n",
        "  <h5 align=\"center\"><i>LÓPEZ AGUIRRE ROBERTO OCELOTZIN</i></h5>\n",
        "  <h5 align=\"center\"><i>VARGAS BAUTISTA EMMANUEL</i></h5>\n",
        "  </font>"
      ],
      "metadata": {
        "id": "T4UT7HDDOVn9"
      }
    },
    {
      "cell_type": "code",
      "execution_count": null,
      "metadata": {
        "colab": {
          "base_uri": "https://localhost:8080/"
        },
        "id": "-LQo3f-l-SUj",
        "outputId": "bdd82c1e-6ea3-49f1-e00c-67189e1f5383"
      },
      "outputs": [
        {
          "output_type": "stream",
          "name": "stdout",
          "text": [
            "Error en x (Cholesky): 376904560079431.7\n",
            "Error en x (QR):       0.0024660479019129274\n",
            "Residual (Cholesky):   17427997.287877902\n",
            "Residual (QR):         1.514749762467485e-10\n"
          ]
        }
      ],
      "source": [
        "import numpy as np\n",
        "\n",
        "# ---------- Datos dados ---------- #\n",
        "m, n = 21, 12\n",
        "epsilon = 1e-10\n",
        "\n",
        "# Usamos la funcion np.linspace para ayudarnos a generar datos de una variable continua uniforme en el [0,1]\n",
        "t = np.linspace(0, 1, m)\n",
        "\n",
        "# Con esta funcion de numpy nos ayudamos a generar una funcion tal y como se propone es decir de columnas crecientes\n",
        "A = np.vander(t, N=n, increasing=True)\n",
        "\n",
        "# Funcion de numpy que hemos usado en numerosas ocaciones que genera una matriz identidad\n",
        "x_exact = np.ones(n)\n",
        "\n",
        "# Calculamos los y_i = A @ x_exact\n",
        "y = A @ x_exact\n",
        "\n",
        "# Hacemos las pertubaciones respectivas\n",
        "u = np.random.rand(m)\n",
        "y_perturbed = y + (2 * u - 1) * epsilon\n",
        "\n",
        "# ---------- Método de Cholesky (Ecuaciones Normales) ---------- #\n",
        "\n",
        "# Ecuaciones normales\n",
        "ATA = A.T @ A\n",
        "ATy = A.T @ y_perturbed\n",
        "\n",
        "# Cholesky: ATA = L @ L.T (L triangular inferior)\n",
        "\n",
        "def cholesky_jamon(A):\n",
        "    n = A.shape[0]\n",
        "    L = np.zeros_like(A)\n",
        "\n",
        "    for i in range(n):\n",
        "        for j in range(i + 1):\n",
        "            sum_k = sum(L[i][k] * L[j][k] for k in range(j))\n",
        "\n",
        "            if i == j:  # Diagonal\n",
        "                val = A[i][i] - sum_k\n",
        "                if val <= 0:\n",
        "                    raise ValueError(\"La matriz no es definida positiva.\")\n",
        "                L[i][j] = np.sqrt(val)\n",
        "            else:  # Fuera de la diagonal\n",
        "                L[i][j] = (A[i][j] - sum_k) / L[j][j]\n",
        "\n",
        "    return L\n",
        "\n",
        "L = cholesky_jamon(ATA)\n",
        "\n",
        "#Procedemos a implementar la sustitucion hacia delante y hacia atras visto en las tareas anteriores\n",
        "\n",
        "def sustitucion_hacia_delante(L, b):\n",
        "    n = L.shape[0]\n",
        "    z = np.zeros_like(b)\n",
        "    for i in range(n):\n",
        "        z[i] = (b[i] - np.dot(L[i, :i], z[:i])) / L[i, i]\n",
        "    return z\n",
        "\n",
        "def sustitucion_hacia_delante(U, b):\n",
        "    n = U.shape[0]\n",
        "    x = np.zeros_like(b)\n",
        "    for i in reversed(range(n)):\n",
        "        x[i] = (b[i] - np.dot(U[i, i+1:], x[i+1:])) / U[i, i]\n",
        "    return x\n",
        "\n",
        "\n",
        "#Aplicamos lo programado anteriormente\n",
        "\n",
        "z = sustitucion_hacia_delante(L, ATy)\n",
        "\n",
        "x_cholesky = sustitucion_hacia_delante(L.T, z)\n",
        "\n",
        "# ---------- Método de QR ----------\n",
        "\n",
        "def qr(A):\n",
        "    m, n = A.shape\n",
        "    R = A.copy().astype(float)\n",
        "    Q = np.eye(m)\n",
        "\n",
        "    for k in range(n):\n",
        "        # Selecciona la subcolumna desde fila k hacia abajo\n",
        "        x = R[k:, k]\n",
        "        e = np.zeros_like(x)\n",
        "        e[0] = np.linalg.norm(x)\n",
        "        if x[0] < 0:\n",
        "            e[0] *= -1\n",
        "\n",
        "        u = x - e\n",
        "        v = u / np.linalg.norm(u)\n",
        "\n",
        "        # Construye la matriz de Householder H = I - 2vvᵗ\n",
        "        Hk = np.eye(m)\n",
        "        Hk_k = np.eye(len(v)) - 2.0 * np.outer(v, v)\n",
        "        Hk[k:, k:] = Hk_k\n",
        "\n",
        "        R = Hk @ R\n",
        "        Q = Q @ Hk\n",
        "\n",
        "    # Recorta Q para que sea m×n (modo 'económico')\n",
        "    Q = Q[:, :n]\n",
        "    R = R[:n, :]\n",
        "\n",
        "    return Q, R\n",
        "\n",
        "\n",
        "Q, R = qr(A)\n",
        "\n",
        "QTy = Q.T @ y_perturbed\n",
        "\n",
        "x_qr = sustitucion_hacia_delante(R, QTy)\n",
        "\n",
        "# ---------- Comparaciones pedidas de manera numerica ----------\n",
        "\n",
        "# Errores en coeficientes\n",
        "error_cholesky = np.linalg.norm(x_cholesky - x_exact)\n",
        "error_qr = np.linalg.norm(x_qr - x_exact)\n",
        "\n",
        "# Ajustes a los datos\n",
        "y_fit_cholesky = A @ x_cholesky\n",
        "y_fit_qr = A @ x_qr\n",
        "\n",
        "# Errores residuales\n",
        "residual_cholesky = np.linalg.norm(y_perturbed - y_fit_cholesky)\n",
        "residual_qr = np.linalg.norm(y_perturbed - y_fit_qr)\n",
        "\n",
        "# Printemos todo\n",
        "\n",
        "print(\"Error en x (Cholesky):\", error_cholesky)\n",
        "print(\"Error en x (QR):      \", error_qr)\n",
        "print(\"Residual (Cholesky):  \", residual_cholesky)\n",
        "print(\"Residual (QR):        \", residual_qr)\n"
      ]
    },
    {
      "cell_type": "markdown",
      "source": [
        "Resolvemos con NUMPY :)\n"
      ],
      "metadata": {
        "id": "IdQSid71-Wvv"
      }
    },
    {
      "cell_type": "code",
      "source": [
        "import numpy as np\n",
        "from scipy.linalg import cho_factor, cho_solve, qr\n",
        "\n",
        "# Parámetros\n",
        "m = 21\n",
        "n = 12\n",
        "epsilon = 1e-10\n",
        "np.random.seed(42)  # para reproducibilidad\n",
        "\n",
        "# Datos base\n",
        "t = np.linspace(0, 1, m)\n",
        "V = np.vander(t, N=n, increasing=True)  # matriz de Vandermonde\n",
        "x_true = np.ones(n)\n",
        "y_exact = V @ x_true\n",
        "\n",
        "# Perturbación\n",
        "u = np.random.rand(m)\n",
        "y = y_exact + (2 * u - 1) * epsilon\n",
        "\n",
        "# Método 1: Ecuaciones normales + Cholesky\n",
        "A = V\n",
        "ATA = A.T @ A\n",
        "ATy = A.T @ y\n",
        "c, lower = cho_factor(ATA)\n",
        "x_cholesky = cho_solve((c, lower), ATy)\n",
        "\n",
        "# Método 2: Factorización QR\n",
        "Q, R = qr(A, mode='economic')\n",
        "x_qr = np.linalg.solve(R, Q.T @ y)\n",
        "\n",
        "# Comparaciones\n",
        "error_cholesky = np.linalg.norm(x_cholesky - x_true)\n",
        "error_qr = np.linalg.norm(x_qr - x_true)\n",
        "\n",
        "ajuste_cholesky = A @ x_cholesky\n",
        "ajuste_qr = A @ x_qr\n",
        "ajuste_true = A @ x_true\n",
        "\n",
        "residuo_cholesky = np.linalg.norm(ajuste_cholesky - y)\n",
        "residuo_qr = np.linalg.norm(ajuste_qr - y)\n",
        "\n",
        "print(\"Error Cholesky:\", error_cholesky)\n",
        "print(\"Error QR:\", error_qr)"
      ],
      "metadata": {
        "colab": {
          "base_uri": "https://localhost:8080/"
        },
        "id": "Xikznu2m-dKN",
        "outputId": "5702a4bd-2800-4041-8ef1-0a0c0db25a70"
      },
      "execution_count": null,
      "outputs": [
        {
          "output_type": "stream",
          "name": "stdout",
          "text": [
            "Error Cholesky: 1.7311234970346405\n",
            "Error QR: 0.0008652807660481151\n"
          ]
        }
      ]
    },
    {
      "cell_type": "markdown",
      "source": [
        "\n",
        "\n",
        "# a) ¿Para cuál de los métodos la solución es más sensible a la perturbación generada?\n",
        "\n",
        "La solución obtenida por Ecuaciones Normales con Cholesky es más sensible a la perturbación. Esto ocurre porque el sistema normal $A^T A$ cuadra la condición de $A$, es decir, su número de condición es el cuadrado del de $A$, lo que amplifica los errores.\n",
        "\n",
        "# b) ¿Cuál de los métodos está más próximo a tener la solución exacta dada por $x_i = 1$ ?\n",
        "\n",
        "El método de Factorización QR está mucho más cerca de la solución exacta. Su error relativo respecto a los coeficientes reales $x_i = 1$ es mucho menor que el error del método de Cholesky\n",
        "\n",
        "# c) ¿La diferencia en las soluciones afecta en el ajuste de puntos $(t_i, y_i)$ por el polinomio, por qué?\n",
        "\n",
        "No significativamente. Ambos métodos ajustan muy bien los puntos porque minimizan la misma función de error:\n",
        "\n",
        "$$\\min_x \\|Ax - y\\|_2$$\n",
        "\n",
        "Entonces, aunque los coeficientes $x$ obtenidos difieren, el ajuste del polinomio es prácticamente el mismo.\n",
        "Esto muestra que **múltiples conjuntos de coeficientes pueden producir ajustes igualmente buenos** cuando el sistema es mal condicionado.\n"
      ],
      "metadata": {
        "id": "BzC6WZ8cQ1N3"
      }
    }
  ]
}